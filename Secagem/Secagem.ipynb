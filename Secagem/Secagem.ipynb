{
 "cells": [
  {
   "cell_type": "markdown",
   "id": "c1f10d1c-35b7-4d40-bb33-b7cf398ce2e5",
   "metadata": {},
   "source": [
    "# Quantidade de Semi-Acabado seco\n",
    "\n"
   ]
  },
  {
   "cell_type": "code",
   "execution_count": 1,
   "id": "5f562f95-f894-4db5-97e5-10fdacf2a15f",
   "metadata": {},
   "outputs": [],
   "source": [
    "import pandas as pd\n",
    "import numpy as np\n",
    "import matplotlib.pyplot as plt\n",
    "import seaborn as sns\n",
    "\n"
   ]
  },
  {
   "cell_type": "code",
   "execution_count": 2,
   "id": "6dfcb147-5232-4f7f-91eb-d73348d2e489",
   "metadata": {},
   "outputs": [],
   "source": [
    "sec2=pd.read_csv('sec2.csv')\n",
    "sec3=pd.read_csv('sec3.csv')\n",
    "sec4=pd.read_csv('sec4.csv')\n",
    "sec6=pd.read_csv('sec6.csv')\n"
   ]
  },
  {
   "cell_type": "code",
   "execution_count": 3,
   "id": "b0a1621f-ed10-4ff4-95da-524fa5426d4b",
   "metadata": {},
   "outputs": [
    {
     "data": {
      "text/plain": [
       "Index(['Data/Hora', 'Produto', 'SEC 2 - Ar Desumidificado (C)',\n",
       "       'SEC 2 - BO-02 (%)', 'SEC 2 - Câmara de Secagem (mmca)',\n",
       "       'SEC 2 - Delta P Filtro Cesto (mmca)',\n",
       "       'SEC 2 - Densidade TQ Origem (g/l)',\n",
       "       'SEC 2 - Duto do LF02 para CL02 (C)', 'SEC 2 - Malha do filtro',\n",
       "       'SEC 2 - LF-01(Pó) (C)', 'SEC 2 - LF-01(Tela) (C)', 'SEC 2 - Lote',\n",
       "       'SEC 2 - Lote TQ Origem', 'SEC 2 - Massa Seca TQ Origem (%)',\n",
       "       'SEC 2 - Massa Seca TQ Origem (auxiliar) (%)',\n",
       "       'SEC 2 - Peso TQ Origem (kg)', 'SEC 2 - Peso TQ Origem (em MS) (%)',\n",
       "       'SEC 2 - Pressão da Linha de Alimentação (bar)',\n",
       "       'SEC 2 - Pressão Delta P CL-01 (mmca)',\n",
       "       'SEC 2 - Pressão Delta P CL-02 (mmca)', 'SEC 2 - Pressão LF-01 (mmca)',\n",
       "       'SEC 2 - Pressão LF-02 (mmca)', 'SEC 2 - Pressão VE-01 (mmca)',\n",
       "       'SEC 2 - Pressão VE-04 (mmca)', 'SEC 2 - Rotação VE-01 (%)',\n",
       "       'SEC 2 - Rotação VE-02 (%)', 'SEC 2 - Rotação VE-04 (%)',\n",
       "       'SEC 2 - Rotação VE-05 (%)', 'SEC 2 - Rotação VE-06 (%)',\n",
       "       'SEC 2 - Rotação VE-07 (%)', 'SEC 2 - Saída Câmara (C)',\n",
       "       'SEC 2 - Saída do Envase(Pó) (C)', 'SEC 2 - Soprador RO-01 (mmca)',\n",
       "       'SEC 2 - Vazão de Água Evaporada (kg/h)',\n",
       "       'SEC 2 - Temp. Antes TQ 02 (pasteurização) (C)',\n",
       "       'SEC 2 - Temp. Após TQ 02 (C)', 'SEC 2 - Temperatura AQ-01 (C)',\n",
       "       'SEC 2 - Temperatura AQ-02 (C)', 'SEC 2 - Temperatura AQ-03 (C)',\n",
       "       'SEC 2 - Temperatura AQ-04 (C)', 'SEC 2 - Temperatura AQ-05 (C)',\n",
       "       'SEC 2 - Temperatura AQ-06 (C)', 'SEC 2 - Temperatura AQ-07 (C)',\n",
       "       'SEC 2 - Totalizador de Entrada (kg)', 'SEC 2 - TQ Origem',\n",
       "       'SEC 2 - Vazão de Ar VE-04 (kg/h)', 'SEC 2 - Vazão de Ar VE-05 (kg/h)',\n",
       "       'SEC 2 - Vazão de Ar VE-06 (kg/h)', 'SEC 2 - Vazão de Entrada (kg/h)',\n",
       "       'SEC 2 - VE-08 (mmca)', 'SEC 2 - Volume TQ Origem (m3)',\n",
       "       'SEC 2 - XV-70 Aberta (s)', 'SEC 2 - XV-70 Intervalo (s)',\n",
       "       'SEC 2 - Processo', 'SEC 2 - Verificação',\n",
       "       'SEC 2 - Taxa de Evaporação (%)',\n",
       "       'SEC 2 - Totalizador de Entrada (auxiliar) (kg)',\n",
       "       'SEC 2 - Monitoramento (peneira)',\n",
       "       'SEC 2 - Sanitização tq. emerg. foi feita?',\n",
       "       'SEC 2 - Nivel TQ Origem (g/l)', 'SEC 2 - Nível Óleo BO 02',\n",
       "       'SEC 2 - Temperatura TQ Origem (C)', 'SEC 2 - Tela da peneira',\n",
       "       'SEC 2 - Avaliação material retido',\n",
       "       'SEC 2 - Saída do Envaso(Pó) manual (C)', 'SEC 2 - Monitoramento',\n",
       "       'SEC 2 - Verificação RO', 'SEC 2 - Totalizador de pó (kg)',\n",
       "       'SEC 2 - Pressão VE-05 (mmca)', 'SEC 2 - Pressão VE-06 (mmca)',\n",
       "       'SEC 2 - Umidade Absoluta (g/kg)',\n",
       "       'SEC 2 - Abertura vv de vapor principal', 'SEC 2 - Bico 1',\n",
       "       'SEC 2 - Bico 2', 'SEC 2 - Bico 3', 'SEC 2 - Pastilha 1',\n",
       "       'SEC 2 - Pastilha 2', 'SEC 2 - Pastilha 3',\n",
       "       'SEC 2 - Bico 1 Do Secador 2 Aberto',\n",
       "       'SEC 2 - Bico 2 Do Secador 2 Aberto',\n",
       "       'SEC 2 - Bico 3 Do Secador 2 Aberto',\n",
       "       'SEC 2 - CV Válvula de Controle de Pressão LF-02 (%)',\n",
       "       'SEC 3 - Pastilha 5', 'SEC 3 - Pastilha 6',\n",
       "       'SEC 3 - Bico 1 Do Secador 3 Aberto',\n",
       "       'SEC 3 - Bico 2 Do Secador 3 Aberto',\n",
       "       'SEC 3 - Bico 3 Do Secador 3 Aberto',\n",
       "       'SEC 3 - Bico 4 Do Secador 3 Aberto',\n",
       "       'SEC 3 - Bico 5 Do Secador 3 Aberto',\n",
       "       'SEC 3 - Bico 6 Do Secador 3 Aberto',\n",
       "       'SEC 3 - CV Válvula de Controle de Pressão LF-02 (%)'],\n",
       "      dtype='object')"
      ]
     },
     "execution_count": 3,
     "metadata": {},
     "output_type": "execute_result"
    }
   ],
   "source": [
    "sec2.columns\n"
   ]
  },
  {
   "cell_type": "code",
   "execution_count": 4,
   "id": "4c29d24f-979f-4d98-810b-a5574cd68ce5",
   "metadata": {},
   "outputs": [],
   "source": [
    "pd.set_option('display.max_columns', 100)\n",
    "\n"
   ]
  },
  {
   "cell_type": "code",
   "execution_count": 5,
   "id": "0afb4de0-087d-455a-aeea-ae606b5f36ec",
   "metadata": {},
   "outputs": [],
   "source": [
    "\n",
    "sec2['SEC 2 - Massa Seca TQ Origem (%)'] = sec2['SEC 2 - Massa Seca TQ Origem (%)'] / 100\n"
   ]
  },
  {
   "cell_type": "code",
   "execution_count": 6,
   "id": "04c07a0a-c341-4b65-907e-7c10ea057bd3",
   "metadata": {},
   "outputs": [
    {
     "name": "stdout",
     "output_type": "stream",
     "text": [
      "       SEC 2 - Lote       Produto\n",
      "0  Q224064 (155435)    851.295522\n",
      "1  Q224065 (155607)  11260.414000\n",
      "2  Q324170 (155609)      0.000000\n"
     ]
    }
   ],
   "source": [
    "sec2['Produto'] = sec2['SEC 2 - Massa Seca TQ Origem (%)'] * sec2['SEC 2 - Vazão de Entrada (kg/h)']\n",
    "\n",
    "sec2_agrupado = sec2.groupby('SEC 2 - Lote')['Produto'].sum().reset_index()\n",
    "\n",
    "print(sec2_agrupado)\n"
   ]
  },
  {
   "cell_type": "code",
   "execution_count": 7,
   "id": "2a1a73d0-55dd-49f0-9fb5-62affc712972",
   "metadata": {},
   "outputs": [
    {
     "name": "stdout",
     "output_type": "stream",
     "text": [
      "   index      SEC 2 - Lote SEC 2 - Lote TQ Origem       Produto\n",
      "0      0  Q224064 (155435)      24ME0617 (155405)    851.295522\n",
      "1      1  Q224065 (155607)       24/1362 (155499)  11260.414000\n",
      "2      2  Q324170 (155609)      24ME0639 (155523)      0.000000\n"
     ]
    }
   ],
   "source": [
    "\n",
    "sec2_agrupado = sec2.groupby(['SEC 2 - Lote', 'SEC 2 - Lote TQ Origem'])['Produto'].sum().reset_index()\n",
    "\n",
    "\n",
    "sec2_agrupado.reset_index(inplace=True)\n",
    "\n",
    "print(sec2_agrupado)\n"
   ]
  },
  {
   "cell_type": "code",
   "execution_count": 8,
   "id": "64c96c04-2a11-4edd-ba87-aaf48045d2e2",
   "metadata": {},
   "outputs": [
    {
     "data": {
      "text/html": [
       "<div>\n",
       "<style scoped>\n",
       "    .dataframe tbody tr th:only-of-type {\n",
       "        vertical-align: middle;\n",
       "    }\n",
       "\n",
       "    .dataframe tbody tr th {\n",
       "        vertical-align: top;\n",
       "    }\n",
       "\n",
       "    .dataframe thead th {\n",
       "        text-align: right;\n",
       "    }\n",
       "</style>\n",
       "<table border=\"1\" class=\"dataframe\">\n",
       "  <thead>\n",
       "    <tr style=\"text-align: right;\">\n",
       "      <th></th>\n",
       "      <th>index</th>\n",
       "      <th>SEC 2 - Lote</th>\n",
       "      <th>SEC 2 - Lote TQ Origem</th>\n",
       "      <th>Produto</th>\n",
       "    </tr>\n",
       "  </thead>\n",
       "  <tbody>\n",
       "    <tr>\n",
       "      <th>0</th>\n",
       "      <td>0</td>\n",
       "      <td>Q224064 (155435)</td>\n",
       "      <td>24ME0617 (155405)</td>\n",
       "      <td>851.295522</td>\n",
       "    </tr>\n",
       "    <tr>\n",
       "      <th>1</th>\n",
       "      <td>1</td>\n",
       "      <td>Q224065 (155607)</td>\n",
       "      <td>24/1362 (155499)</td>\n",
       "      <td>11260.414000</td>\n",
       "    </tr>\n",
       "    <tr>\n",
       "      <th>2</th>\n",
       "      <td>2</td>\n",
       "      <td>Q324170 (155609)</td>\n",
       "      <td>24ME0639 (155523)</td>\n",
       "      <td>0.000000</td>\n",
       "    </tr>\n",
       "  </tbody>\n",
       "</table>\n",
       "</div>"
      ],
      "text/plain": [
       "   index      SEC 2 - Lote SEC 2 - Lote TQ Origem       Produto\n",
       "0      0  Q224064 (155435)      24ME0617 (155405)    851.295522\n",
       "1      1  Q224065 (155607)       24/1362 (155499)  11260.414000\n",
       "2      2  Q324170 (155609)      24ME0639 (155523)      0.000000"
      ]
     },
     "execution_count": 8,
     "metadata": {},
     "output_type": "execute_result"
    }
   ],
   "source": [
    "sec2_agrupado"
   ]
  },
  {
   "cell_type": "code",
   "execution_count": 9,
   "id": "591f7e41-05bc-4555-b1be-bcd2a135cce0",
   "metadata": {},
   "outputs": [
    {
     "data": {
      "text/html": [
       "<div>\n",
       "<style scoped>\n",
       "    .dataframe tbody tr th:only-of-type {\n",
       "        vertical-align: middle;\n",
       "    }\n",
       "\n",
       "    .dataframe tbody tr th {\n",
       "        vertical-align: top;\n",
       "    }\n",
       "\n",
       "    .dataframe thead th {\n",
       "        text-align: right;\n",
       "    }\n",
       "</style>\n",
       "<table border=\"1\" class=\"dataframe\">\n",
       "  <thead>\n",
       "    <tr style=\"text-align: right;\">\n",
       "      <th></th>\n",
       "      <th>index</th>\n",
       "      <th>SEC 3 - Lote</th>\n",
       "      <th>SEC 3 - Lote TQ Origem</th>\n",
       "      <th>Produto</th>\n",
       "    </tr>\n",
       "  </thead>\n",
       "  <tbody>\n",
       "    <tr>\n",
       "      <th>0</th>\n",
       "      <td>0</td>\n",
       "      <td>Q324166 (155435)</td>\n",
       "      <td>24ME0617 (155405)</td>\n",
       "      <td>2425.498348</td>\n",
       "    </tr>\n",
       "    <tr>\n",
       "      <th>1</th>\n",
       "      <td>1</td>\n",
       "      <td>Q324167 (155588)</td>\n",
       "      <td>24ME0617 (155405)</td>\n",
       "      <td>3611.074740</td>\n",
       "    </tr>\n",
       "    <tr>\n",
       "      <th>2</th>\n",
       "      <td>2</td>\n",
       "      <td>Q324168 (155609)</td>\n",
       "      <td>24ME0639 (155523)</td>\n",
       "      <td>4541.343825</td>\n",
       "    </tr>\n",
       "    <tr>\n",
       "      <th>3</th>\n",
       "      <td>3</td>\n",
       "      <td>Q324169 (155609)</td>\n",
       "      <td>24ME0639 (155523)</td>\n",
       "      <td>14331.792400</td>\n",
       "    </tr>\n",
       "    <tr>\n",
       "      <th>4</th>\n",
       "      <td>4</td>\n",
       "      <td>Q324170 (155609)</td>\n",
       "      <td>24ME0639 (155523)</td>\n",
       "      <td>870.685200</td>\n",
       "    </tr>\n",
       "  </tbody>\n",
       "</table>\n",
       "</div>"
      ],
      "text/plain": [
       "   index      SEC 3 - Lote SEC 3 - Lote TQ Origem       Produto\n",
       "0      0  Q324166 (155435)      24ME0617 (155405)   2425.498348\n",
       "1      1  Q324167 (155588)      24ME0617 (155405)   3611.074740\n",
       "2      2  Q324168 (155609)      24ME0639 (155523)   4541.343825\n",
       "3      3  Q324169 (155609)      24ME0639 (155523)  14331.792400\n",
       "4      4  Q324170 (155609)      24ME0639 (155523)    870.685200"
      ]
     },
     "execution_count": 9,
     "metadata": {},
     "output_type": "execute_result"
    }
   ],
   "source": [
    "sec3['SEC 3 - Massa Seca TQ Origem (%)'] = sec3['SEC 3 - Massa Seca TQ Origem (%)'] / 100\n",
    "sec3['Produto'] = sec3['SEC 3 - Massa Seca TQ Origem (%)'] * sec3['SEC 3 - Vazão de Entrada (kg/h)']\n",
    "\n",
    "sec3_agrupado = sec3.groupby(['SEC 3 - Lote', 'SEC 3 - Lote TQ Origem'])['Produto'].sum().reset_index()\n",
    "\n",
    "\n",
    "sec3_agrupado.reset_index(inplace=True)\n",
    "\n",
    "sec3_agrupado\n"
   ]
  },
  {
   "cell_type": "code",
   "execution_count": 10,
   "id": "432e4c46-6ebe-4cf6-a74f-d515acfafda4",
   "metadata": {},
   "outputs": [
    {
     "data": {
      "text/html": [
       "<div>\n",
       "<style scoped>\n",
       "    .dataframe tbody tr th:only-of-type {\n",
       "        vertical-align: middle;\n",
       "    }\n",
       "\n",
       "    .dataframe tbody tr th {\n",
       "        vertical-align: top;\n",
       "    }\n",
       "\n",
       "    .dataframe thead th {\n",
       "        text-align: right;\n",
       "    }\n",
       "</style>\n",
       "<table border=\"1\" class=\"dataframe\">\n",
       "  <thead>\n",
       "    <tr style=\"text-align: right;\">\n",
       "      <th></th>\n",
       "      <th>index</th>\n",
       "      <th>SEC 4 - Lote</th>\n",
       "      <th>SEC 4 - Lote TQ Origem</th>\n",
       "      <th>Produto</th>\n",
       "    </tr>\n",
       "  </thead>\n",
       "  <tbody>\n",
       "    <tr>\n",
       "      <th>0</th>\n",
       "      <td>0</td>\n",
       "      <td>Q424181 (155613)</td>\n",
       "      <td>24ME0642 (155526)</td>\n",
       "      <td>13478.285568</td>\n",
       "    </tr>\n",
       "    <tr>\n",
       "      <th>1</th>\n",
       "      <td>1</td>\n",
       "      <td>Q424182 (155613)</td>\n",
       "      <td>24ME0642 (155526)</td>\n",
       "      <td>6984.915264</td>\n",
       "    </tr>\n",
       "    <tr>\n",
       "      <th>2</th>\n",
       "      <td>2</td>\n",
       "      <td>Q424182 (155613)</td>\n",
       "      <td>24ME0648 (155527)</td>\n",
       "      <td>1165.493223</td>\n",
       "    </tr>\n",
       "    <tr>\n",
       "      <th>3</th>\n",
       "      <td>3</td>\n",
       "      <td>Q424183 (155613)</td>\n",
       "      <td>24ME0648 (155527)</td>\n",
       "      <td>1338.137082</td>\n",
       "    </tr>\n",
       "    <tr>\n",
       "      <th>4</th>\n",
       "      <td>4</td>\n",
       "      <td>Q424183 (155618)</td>\n",
       "      <td>24ME0648 (155527)</td>\n",
       "      <td>12977.364222</td>\n",
       "    </tr>\n",
       "    <tr>\n",
       "      <th>5</th>\n",
       "      <td>5</td>\n",
       "      <td>Q424184 (155609)</td>\n",
       "      <td>24ME0648 (155527)</td>\n",
       "      <td>1808.840664</td>\n",
       "    </tr>\n",
       "    <tr>\n",
       "      <th>6</th>\n",
       "      <td>6</td>\n",
       "      <td>Q424185 (155684)</td>\n",
       "      <td>24ME0648 (155527)</td>\n",
       "      <td>14924.972061</td>\n",
       "    </tr>\n",
       "    <tr>\n",
       "      <th>7</th>\n",
       "      <td>7</td>\n",
       "      <td>Q424186 (155684)</td>\n",
       "      <td>24ME0648 (155527)</td>\n",
       "      <td>5932.623960</td>\n",
       "    </tr>\n",
       "    <tr>\n",
       "      <th>8</th>\n",
       "      <td>8</td>\n",
       "      <td>Q424187 (155743)</td>\n",
       "      <td>24ME0664 (155359)</td>\n",
       "      <td>691.987160</td>\n",
       "    </tr>\n",
       "  </tbody>\n",
       "</table>\n",
       "</div>"
      ],
      "text/plain": [
       "   index      SEC 4 - Lote SEC 4 - Lote TQ Origem       Produto\n",
       "0      0  Q424181 (155613)      24ME0642 (155526)  13478.285568\n",
       "1      1  Q424182 (155613)      24ME0642 (155526)   6984.915264\n",
       "2      2  Q424182 (155613)      24ME0648 (155527)   1165.493223\n",
       "3      3  Q424183 (155613)      24ME0648 (155527)   1338.137082\n",
       "4      4  Q424183 (155618)      24ME0648 (155527)  12977.364222\n",
       "5      5  Q424184 (155609)      24ME0648 (155527)   1808.840664\n",
       "6      6  Q424185 (155684)      24ME0648 (155527)  14924.972061\n",
       "7      7  Q424186 (155684)      24ME0648 (155527)   5932.623960\n",
       "8      8  Q424187 (155743)      24ME0664 (155359)    691.987160"
      ]
     },
     "execution_count": 10,
     "metadata": {},
     "output_type": "execute_result"
    }
   ],
   "source": [
    "sec4['SEC 4 - Massa Seca TQ Origem (%)'] = sec4['SEC 4 - Massa Seca TQ Origem (%)'] / 100\n",
    "sec4['Produto'] = sec4['SEC 4 - Massa Seca TQ Origem (%)'] * sec4['SEC 4 - Vazão de Entrada (kg/h)']\n",
    "\n",
    "sec4_agrupado = sec4.groupby(['SEC 4 - Lote', 'SEC 4 - Lote TQ Origem'])['Produto'].sum().reset_index()\n",
    "\n",
    "\n",
    "sec4_agrupado.reset_index(inplace=True)\n",
    "\n",
    "sec4_agrupado\n"
   ]
  },
  {
   "cell_type": "code",
   "execution_count": 11,
   "id": "b91a08c5-c5c7-412b-8853-a802ec922d2c",
   "metadata": {},
   "outputs": [
    {
     "data": {
      "text/html": [
       "<div>\n",
       "<style scoped>\n",
       "    .dataframe tbody tr th:only-of-type {\n",
       "        vertical-align: middle;\n",
       "    }\n",
       "\n",
       "    .dataframe tbody tr th {\n",
       "        vertical-align: top;\n",
       "    }\n",
       "\n",
       "    .dataframe thead th {\n",
       "        text-align: right;\n",
       "    }\n",
       "</style>\n",
       "<table border=\"1\" class=\"dataframe\">\n",
       "  <thead>\n",
       "    <tr style=\"text-align: right;\">\n",
       "      <th></th>\n",
       "      <th>index</th>\n",
       "      <th>SEC 6 - Lote</th>\n",
       "      <th>SEC 6 - Lote TQ Origem</th>\n",
       "      <th>Produto</th>\n",
       "    </tr>\n",
       "  </thead>\n",
       "  <tbody>\n",
       "    <tr>\n",
       "      <th>0</th>\n",
       "      <td>0</td>\n",
       "      <td>Q624231 (155608)</td>\n",
       "      <td>24ME0651 (155542)</td>\n",
       "      <td>15754.794398</td>\n",
       "    </tr>\n",
       "    <tr>\n",
       "      <th>1</th>\n",
       "      <td>1</td>\n",
       "      <td>Q624232 (155608)</td>\n",
       "      <td>24ME0651 (155542)</td>\n",
       "      <td>15459.574284</td>\n",
       "    </tr>\n",
       "    <tr>\n",
       "      <th>2</th>\n",
       "      <td>2</td>\n",
       "      <td>Q624233 (155505)</td>\n",
       "      <td>24ME0652 (155440)</td>\n",
       "      <td>3922.502020</td>\n",
       "    </tr>\n",
       "    <tr>\n",
       "      <th>3</th>\n",
       "      <td>3</td>\n",
       "      <td>Q624234 (155505)</td>\n",
       "      <td>24ME0652 (155440)</td>\n",
       "      <td>13170.175600</td>\n",
       "    </tr>\n",
       "    <tr>\n",
       "      <th>4</th>\n",
       "      <td>4</td>\n",
       "      <td>Q624235 (155505)</td>\n",
       "      <td>24ME0652 (155440)</td>\n",
       "      <td>15099.025340</td>\n",
       "    </tr>\n",
       "    <tr>\n",
       "      <th>5</th>\n",
       "      <td>5</td>\n",
       "      <td>Q624236 (155505)</td>\n",
       "      <td>24ME0652 (155440)</td>\n",
       "      <td>1183.679190</td>\n",
       "    </tr>\n",
       "    <tr>\n",
       "      <th>6</th>\n",
       "      <td>6</td>\n",
       "      <td>Q624236 (155505)</td>\n",
       "      <td>24ME0653 (155440)</td>\n",
       "      <td>19574.733060</td>\n",
       "    </tr>\n",
       "    <tr>\n",
       "      <th>7</th>\n",
       "      <td>7</td>\n",
       "      <td>Q624237 (155615)</td>\n",
       "      <td>24ME0653 (155440)</td>\n",
       "      <td>10770.340530</td>\n",
       "    </tr>\n",
       "    <tr>\n",
       "      <th>8</th>\n",
       "      <td>8</td>\n",
       "      <td>Q624238 (155585)</td>\n",
       "      <td>24ME0656 (155681)</td>\n",
       "      <td>3293.103320</td>\n",
       "    </tr>\n",
       "    <tr>\n",
       "      <th>9</th>\n",
       "      <td>9</td>\n",
       "      <td>Q624239 (155687)</td>\n",
       "      <td>24ME0656 (155681)</td>\n",
       "      <td>20691.231080</td>\n",
       "    </tr>\n",
       "    <tr>\n",
       "      <th>10</th>\n",
       "      <td>10</td>\n",
       "      <td>Q624240 (155688)</td>\n",
       "      <td>24ME0656 (155681)</td>\n",
       "      <td>17913.376840</td>\n",
       "    </tr>\n",
       "    <tr>\n",
       "      <th>11</th>\n",
       "      <td>11</td>\n",
       "      <td>Q624241 (155688)</td>\n",
       "      <td>24ME0656 (155681)</td>\n",
       "      <td>22621.164800</td>\n",
       "    </tr>\n",
       "    <tr>\n",
       "      <th>12</th>\n",
       "      <td>12</td>\n",
       "      <td>Q624242 (155688)</td>\n",
       "      <td>24ME0657 (155667)</td>\n",
       "      <td>7491.447100</td>\n",
       "    </tr>\n",
       "  </tbody>\n",
       "</table>\n",
       "</div>"
      ],
      "text/plain": [
       "    index      SEC 6 - Lote SEC 6 - Lote TQ Origem       Produto\n",
       "0       0  Q624231 (155608)      24ME0651 (155542)  15754.794398\n",
       "1       1  Q624232 (155608)      24ME0651 (155542)  15459.574284\n",
       "2       2  Q624233 (155505)      24ME0652 (155440)   3922.502020\n",
       "3       3  Q624234 (155505)      24ME0652 (155440)  13170.175600\n",
       "4       4  Q624235 (155505)      24ME0652 (155440)  15099.025340\n",
       "5       5  Q624236 (155505)      24ME0652 (155440)   1183.679190\n",
       "6       6  Q624236 (155505)      24ME0653 (155440)  19574.733060\n",
       "7       7  Q624237 (155615)      24ME0653 (155440)  10770.340530\n",
       "8       8  Q624238 (155585)      24ME0656 (155681)   3293.103320\n",
       "9       9  Q624239 (155687)      24ME0656 (155681)  20691.231080\n",
       "10     10  Q624240 (155688)      24ME0656 (155681)  17913.376840\n",
       "11     11  Q624241 (155688)      24ME0656 (155681)  22621.164800\n",
       "12     12  Q624242 (155688)      24ME0657 (155667)   7491.447100"
      ]
     },
     "execution_count": 11,
     "metadata": {},
     "output_type": "execute_result"
    }
   ],
   "source": [
    "sec6['SEC 6 - Massa Seca TQ Origem (%)'] = sec6['SEC 6 - Massa Seca TQ Origem (%)'] / 100\n",
    "sec6['Produto'] = sec6['SEC 6 - Massa Seca TQ Origem (%)'] * sec6['SEC 6 - Vazão de Produto (L/h)']\n",
    "\n",
    "sec6_agrupado = sec6.groupby(['SEC 6 - Lote', 'SEC 6 - Lote TQ Origem'])['Produto'].sum().reset_index()\n",
    "\n",
    "\n",
    "sec6_agrupado.reset_index(inplace=True)\n",
    "\n",
    "sec6_agrupado\n"
   ]
  },
  {
   "cell_type": "code",
   "execution_count": null,
   "id": "eb86fb96-4e01-4126-8e2f-029a44878abd",
   "metadata": {},
   "outputs": [],
   "source": []
  },
  {
   "cell_type": "code",
   "execution_count": null,
   "id": "cf352a5f-5bb4-4dba-8397-306f7c689135",
   "metadata": {},
   "outputs": [],
   "source": []
  },
  {
   "cell_type": "code",
   "execution_count": null,
   "id": "b4f414e1-e7c2-429c-9b89-ffc0eb46ec75",
   "metadata": {},
   "outputs": [],
   "source": []
  },
  {
   "cell_type": "code",
   "execution_count": null,
   "id": "b9658f2d-1d89-4368-ac0b-ede7b8c48178",
   "metadata": {},
   "outputs": [],
   "source": []
  },
  {
   "cell_type": "code",
   "execution_count": null,
   "id": "1ccbdb33-3207-4ece-af3a-f3b18f1ce438",
   "metadata": {},
   "outputs": [],
   "source": []
  },
  {
   "cell_type": "code",
   "execution_count": 12,
   "id": "535066be-020a-43f3-9c6b-3de4c0e65fcc",
   "metadata": {},
   "outputs": [],
   "source": [
    "list=[]"
   ]
  },
  {
   "cell_type": "code",
   "execution_count": 13,
   "id": "18d2ab9f-6e1e-4857-889c-8dcf6477c20b",
   "metadata": {},
   "outputs": [],
   "source": [
    "list += 'Pyhton'"
   ]
  },
  {
   "cell_type": "code",
   "execution_count": 14,
   "id": "29c412b2-6295-4abb-88c4-f15ad462c65d",
   "metadata": {},
   "outputs": [
    {
     "data": {
      "text/plain": [
       "['P', 'y', 'h', 't', 'o', 'n']"
      ]
     },
     "execution_count": 14,
     "metadata": {},
     "output_type": "execute_result"
    }
   ],
   "source": [
    "list"
   ]
  },
  {
   "cell_type": "code",
   "execution_count": 15,
   "id": "8e409c46-db39-4071-93e4-4267cc78fd27",
   "metadata": {},
   "outputs": [],
   "source": [
    "s=[]"
   ]
  },
  {
   "cell_type": "code",
   "execution_count": 16,
   "id": "51bafcda-aef4-4de0-bf30-c0182bb2bd25",
   "metadata": {},
   "outputs": [
    {
     "name": "stdout",
     "output_type": "stream",
     "text": [
      "0 : P\n",
      "1 : y\n",
      "2 : h\n",
      "3 : t\n",
      "4 : o\n",
      "5 : n\n"
     ]
    }
   ],
   "source": [
    "for i in range(len(list)):\n",
    "    print(f'{i} : {list[i]}')\n",
    "    "
   ]
  },
  {
   "cell_type": "code",
   "execution_count": 17,
   "id": "84b5f6e8-d207-4c30-8046-f6b45e30b860",
   "metadata": {},
   "outputs": [],
   "source": [
    "def cube_list(values):\n",
    "    for i in range(len(values)):\n",
    "        values[i] **=3\n"
   ]
  },
  {
   "cell_type": "code",
   "execution_count": 18,
   "id": "1e54040b-43dd-4507-ae1e-9aa8ad3c69a7",
   "metadata": {},
   "outputs": [],
   "source": [
    "values = [1,2,3,4,5,6,7,8,9,10]"
   ]
  },
  {
   "cell_type": "code",
   "execution_count": 19,
   "id": "984557f5-7334-4b2b-a0c7-5744ad6c08f1",
   "metadata": {},
   "outputs": [],
   "source": [
    "cube_list(values)"
   ]
  },
  {
   "cell_type": "code",
   "execution_count": 20,
   "id": "b935b19a-a09f-4468-9d91-76fe44ddd56a",
   "metadata": {},
   "outputs": [
    {
     "data": {
      "text/plain": [
       "[1, 8, 27, 64, 125, 216, 343, 512, 729, 1000]"
      ]
     },
     "execution_count": 20,
     "metadata": {},
     "output_type": "execute_result"
    }
   ],
   "source": [
    "values"
   ]
  },
  {
   "cell_type": "code",
   "execution_count": null,
   "id": "1aa70581-52bb-4dde-b3e5-8a0d279fec6e",
   "metadata": {},
   "outputs": [],
   "source": []
  }
 ],
 "metadata": {
  "kernelspec": {
   "display_name": "Python 3 (ipykernel)",
   "language": "python",
   "name": "python3"
  },
  "language_info": {
   "codemirror_mode": {
    "name": "ipython",
    "version": 3
   },
   "file_extension": ".py",
   "mimetype": "text/x-python",
   "name": "python",
   "nbconvert_exporter": "python",
   "pygments_lexer": "ipython3",
   "version": "3.11.7"
  }
 },
 "nbformat": 4,
 "nbformat_minor": 5
}
